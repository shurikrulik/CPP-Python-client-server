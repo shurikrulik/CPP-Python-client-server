{
 "cells": [
  {
   "cell_type": "code",
   "execution_count": null,
   "metadata": {},
   "outputs": [],
   "source": [
    "\n",
    "%matplotlib inline"
   ]
  },
  {
   "cell_type": "code",
   "execution_count": null,
   "metadata": {},
   "outputs": [],
   "source": [
    "import matplotlib.pyplot as plt\n",
    "import matplotlib.animation as animation\n",
    "from matplotlib import rc\n",
    "import numpy as np\n",
    "import csv\n",
    "from urllib.request import urlopen\n",
    "import codecs\n",
    "from IPython.display import HTML\n",
    "\n",
    "animation.embed_limit = 10000000000\n",
    "numberOfRays = 571\n",
    "fig = plt.figure(figsize=(9,9))\n",
    "ax = fig.add_subplot(111, projection='polar')\n",
    "ax.set_ylim(0,60000)\n",
    "\n",
    "data = np.random.rand(numberOfRays)*10000\n",
    "theta = np.linspace(0,3.31613, num=571)\n",
    "l,  = ax.plot([],[])\n",
    "\n",
    "def update(i):\n",
    "    global data\n",
    "    row = rows[i:i+1]\n",
    "    l.set_data(theta, row)\n",
    "    return l,\n",
    "\n",
    "# with open('/home/aleksandr/Documents/firstmeasurement1.csv', newline='') as File:\n",
    "#     reader = csv.reader(File)\n",
    "with urlopen('https://raw.githubusercontent.com/shurikrulik/cpp-python-client-server/master/firstmeasurement1.csv') as File:\n",
    "    reader = csv.reader(codecs.iterdecode(File, 'utf-8'))\n",
    "    rows = list(reader)\n",
    "ani = animation.FuncAnimation(fig, update, frames=4015, interval=100, blit=True)\n",
    "HTML(ani.to_html5_video())\n",
    "\n",
    "\n"
   ]
  },
  {
   "cell_type": "code",
   "execution_count": null,
   "metadata": {},
   "outputs": [],
   "source": []
  },
  {
   "cell_type": "code",
   "execution_count": 7,
   "metadata": {},
   "outputs": [],
   "source": []
  },
  {
   "cell_type": "code",
   "execution_count": null,
   "metadata": {},
   "outputs": [],
   "source": []
  },
  {
   "cell_type": "code",
   "execution_count": null,
   "metadata": {},
   "outputs": [],
   "source": [
    "\n"
   ]
  },
  {
   "cell_type": "code",
   "execution_count": 10,
   "metadata": {},
   "outputs": [],
   "source": []
  },
  {
   "cell_type": "code",
   "execution_count": 11,
   "metadata": {},
   "outputs": [],
   "source": []
  },
  {
   "cell_type": "code",
   "execution_count": null,
   "metadata": {},
   "outputs": [],
   "source": []
  }
 ],
 "metadata": {
  "kernelspec": {
   "display_name": "Python 3",
   "language": "python",
   "name": "python3"
  },
  "language_info": {
   "codemirror_mode": {
    "name": "ipython",
    "version": 3
   },
   "file_extension": ".py",
   "mimetype": "text/x-python",
   "name": "python",
   "nbconvert_exporter": "python",
   "pygments_lexer": "ipython3",
   "version": "3.6.5"
  }
 },
 "nbformat": 4,
 "nbformat_minor": 2
}
